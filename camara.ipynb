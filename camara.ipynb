{
 "cells": [
  {
   "cell_type": "markdown",
   "metadata": {},
   "source": [
    "## Cámara\n",
    "<p><code>Python en Jupyter Notebook</code></p>\n",
    "<p>Creado por <code>Giancarlo Ortiz</code> para explicar el método electoral <code>no proporcional</code></p>\n",
    "\n",
    "El sistema electoral vigente en Colombia se encuentra definido en la reforma constitucional del [acto legislativo 01 de 2003](http://www.secretariasenado.gov.co/senado/basedoc/acto_legislativo_01_2003.html) que define metodos de cifra repartidora y umbral para las elecciones de las dos Cámaras del congreso de la republica. \n",
    "\n",
    "## Agenda\n",
    "1. Métodos no lineales\n",
    "1. Cifra repartidora\n",
    "1. Método d'Hondt\n",
    "1. Umbral"
   ]
  },
  {
   "cell_type": "code",
   "execution_count": 1,
   "metadata": {},
   "outputs": [],
   "source": [
    "import colorama\n",
    "import pandas as pd\n",
    "import pylab as plt"
   ]
  },
  {
   "cell_type": "markdown",
   "metadata": {},
   "source": [
    "### 1. Métodos no lineales\n",
    "---\n",
    "En un sistema electoral existen métodos [no lineales](https://es.wikipedia.org/wiki/Sistema_no_lineal) para repartir los escaños de un cuerpo colegiado, los más conocidos se basan en el promedio mayor y el resto mayor; los métodos de promedio mayor son menos lineales y asignan más escaños a los promedios más altos y los métodos de resto mayor asignan más escaños a los retos más altos.\n",
    "\n",
    "### 2. Cifra repartidora\n",
    "---\n",
    "Los métodos de promedio mayor se basan en la división sucesiva de los votos de cada una de las listas por una sucesión de números para producir una tabla de cocientes llamados promedios, finalmente de todos estos promedios se escogen los mayores de acuerdo a una cifra mínima o cifra repartidora.\n",
    "\n",
    "### 3. Método d'Hondt \n",
    "---\n",
    "Los métodos de promedio mayor o de cifra repartidora comúnmente utilizados son el método d'Hondt y el Método Sainte-Laguë o Webster, en el primero los divisores son los números naturales (1, 2, 3, ...) y en el segundo solo los números impares (1, 3, 5, ...), de modo que las fórmulas de los cocientes d'Hondt y de Webster en cada iteración se pueden expresar como:\n",
    "\n",
    "\\begin{equation*}\n",
    "Ch_{i,j} = \\frac{V_i}{S_j + 1}\n",
    "\\end{equation*}\n",
    "\n",
    "\\begin{equation*}\n",
    "Cw_{i,j} = \\frac{V_i}{2S_j + 1}\n",
    "\\end{equation*}\n",
    "\n",
    "\n",
    "><br>**Donde:** \n",
    ">* $Ch_j$ es el coeficiente d'Hondt.\n",
    ">* $Cw_j$ es el coeficiente de Webster.\n",
    ">* $V_i$ es el número total de votos para la i-ésima lista.\n",
    ">* $S_j$ es el número j-ésimo de escaños conseguidos por la i-ésima lista.\n",
    "><br><br>\n",
    "\n",
    "\n",
    "### 4. Umbral \n",
    "---\n",
    "En cualquiera de los métodos para repartir curules se puede establecer un umbral o limite inferior a partir del cual una lista no acumula credenciales sin importar la cifra repartidora, en el caso de la Cámara este es la mitad del cuociente electoral que depende de los votos válidos, donde los votos válidos incluyen a la suma de los votos de cada una de las listas y los votos en blanco.\n",
    "\n",
    "\\begin{equation*}\n",
    "Cuociente = \\frac{V}{c}\n",
    "\\end{equation*}\n",
    "\n",
    "\\begin{equation*}\n",
    "Umbral = \\frac{V}{2c}\n",
    "\\end{equation*}\n",
    "\n",
    "\\begin{equation*}\n",
    "V = \\sum{V_i} + V_{blanco}\n",
    "\\end{equation*}"
   ]
  },
  {
   "cell_type": "markdown",
   "metadata": {},
   "source": [
    "### <code>Ejemplo:</code> método D'Hondt\n",
    "---\n",
    "Cálculo de credenciales al senado para cada lista en el escrutinio final de las elecciones legislativas de 2018, realizadas el domingo 11 de marzo en Colombia."
   ]
  },
  {
   "cell_type": "code",
   "execution_count": 2,
   "metadata": {},
   "outputs": [],
   "source": [
    "# Funciones\n",
    "def repartidora(validos_listas: list, max_curules: int) -> int:\n",
    "    ''' Función que calcula la cifra repartidora '''\n",
    "    values = []\n",
    "    tabla = [\n",
    "        [0 for col in range(max_curules)]\n",
    "        for row in range(len(validos_listas))\n",
    "    ]\n",
    "    count = -1\n",
    "    for votos in validos_listas:\n",
    "        count += 1\n",
    "        for item in range(max_curules):\n",
    "            value = votos/(item+1)\n",
    "            values.append(value)\n",
    "            tabla[count][item] = value\n",
    "    values = sorted(values, reverse=True)\n",
    "    return round(values[max_curules-1])\n",
    "\n",
    "\n",
    "def cocientes(validos_listas: list, max_curules: int) -> list:\n",
    "    ''' Función que calcula las curules para cada lista proporcionalmente '''\n",
    "    suma = sum(validos_listas)\n",
    "    proporciones = []\n",
    "    resto = []\n",
    "    for votos in validos_listas:\n",
    "        proporciones.append(votos*max_curules/suma)\n",
    "        resto.append((votos*max_curules) % suma)\n",
    "    return proporciones, resto\n",
    "\n",
    "\n",
    "def distribucion_proporcional(validos_listas: list, max_curules: int) -> list:\n",
    "    ''' Función que calcula las curules para cada lista proporcionalmente '''\n",
    "    suma = sum(validos_listas)\n",
    "    curules = []\n",
    "    for votos in validos_listas:\n",
    "        curules.append((votos*max_curules) // suma)\n",
    "    return curules\n",
    "\n",
    "\n",
    "def distribucion_promedio(validos_listas: list, cifra_repartidora: int, umbral: int) -> list:\n",
    "    ''' Función que Calcula las curules para cada lista con el método máximo promedio D'Hondt '''\n",
    "    curules = []\n",
    "    for item in validos_listas:\n",
    "        if item >= umbral:\n",
    "            curules.append(int(item/cifra_repartidora))\n",
    "        else:\n",
    "            curules.append(0)\n",
    "    return curules\n",
    "\n",
    "\n",
    "def distribucion_resto(validos_listas: list, max_curules: int) -> list:\n",
    "    ''' Función que Calcula las curules para cada lista con el método máximo resto '''\n",
    "    proporciones, resto = cocientes(validos_listas, max_curules)\n",
    "    proporcionales = distribucion_proporcional(validos_listas, max_curules)\n",
    "    curules_resto = int(max_curules - sum(proporcionales))\n",
    "    minimo = sorted(resto)[-curules_resto]\n",
    "    curules = []\n",
    "    count = -1\n",
    "    for item in resto:\n",
    "        count += 1\n",
    "        if item >= minimo:\n",
    "            curules.append(proporcionales[count]+1)\n",
    "        else:\n",
    "            curules.append(proporcionales[count])\n",
    "    return curules\n"
   ]
  },
  {
   "cell_type": "code",
   "execution_count": 63,
   "metadata": {},
   "outputs": [
    {
     "name": "stdout",
     "output_type": "stream",
     "text": [
      "<class 'pandas.core.series.Series'>\n"
     ]
    },
    {
     "data": {
      "text/plain": [
       "Conservador     140738.0\n",
       "Liberal          75888.0\n",
       "Unidad           68699.0\n",
       "Radical          67140.0\n",
       "Polo             60504.0\n",
       "Blanco           27581.0\n",
       "Democratico      15187.0\n",
       "Mira             10969.0\n",
       "Somos             6181.0\n",
       "OC                1232.0\n",
       "TSC               1087.0\n",
       "Name: Nariño, dtype: float64"
      ]
     },
     "execution_count": 63,
     "metadata": {},
     "output_type": "execute_result"
    }
   ],
   "source": [
    "# Cargando datos en dataframes\n",
    "circunscripcion = \"Nariño\"\n",
    "df = pd.read_excel(\n",
    "    open(\"camara.xlsx\", \"rb\"),\n",
    "    sheet_name=[\"Votos\", \"Curules\"],\n",
    "    index_col=0\n",
    ")\n",
    "votos = df[\"Votos\"].loc[\"Nariño\"]\n",
    "curules = df[\"Curules\"].loc[\"Nariño\"][\"Curules\"]\n",
    "votos.sort_values(ascending=False, inplace=True)\n",
    "votos"
   ]
  },
  {
   "cell_type": "code",
   "execution_count": 43,
   "metadata": {},
   "outputs": [
    {
     "ename": "KeyError",
     "evalue": "'Departamento'",
     "output_type": "error",
     "traceback": [
      "\u001b[1;31m---------------------------------------------------------------------------\u001b[0m",
      "\u001b[1;31mKeyError\u001b[0m                                  Traceback (most recent call last)",
      "\u001b[1;32mC:\\Python\\Python39\\lib\\site-packages\\pandas\\core\\indexes\\base.py\u001b[0m in \u001b[0;36mget_loc\u001b[1;34m(self, key, method, tolerance)\u001b[0m\n\u001b[0;32m   3360\u001b[0m             \u001b[1;32mtry\u001b[0m\u001b[1;33m:\u001b[0m\u001b[1;33m\u001b[0m\u001b[1;33m\u001b[0m\u001b[0m\n\u001b[1;32m-> 3361\u001b[1;33m                 \u001b[1;32mreturn\u001b[0m \u001b[0mself\u001b[0m\u001b[1;33m.\u001b[0m\u001b[0m_engine\u001b[0m\u001b[1;33m.\u001b[0m\u001b[0mget_loc\u001b[0m\u001b[1;33m(\u001b[0m\u001b[0mcasted_key\u001b[0m\u001b[1;33m)\u001b[0m\u001b[1;33m\u001b[0m\u001b[1;33m\u001b[0m\u001b[0m\n\u001b[0m\u001b[0;32m   3362\u001b[0m             \u001b[1;32mexcept\u001b[0m \u001b[0mKeyError\u001b[0m \u001b[1;32mas\u001b[0m \u001b[0merr\u001b[0m\u001b[1;33m:\u001b[0m\u001b[1;33m\u001b[0m\u001b[1;33m\u001b[0m\u001b[0m\n",
      "\u001b[1;32mC:\\Python\\Python39\\lib\\site-packages\\pandas\\_libs\\index.pyx\u001b[0m in \u001b[0;36mpandas._libs.index.IndexEngine.get_loc\u001b[1;34m()\u001b[0m\n",
      "\u001b[1;32mC:\\Python\\Python39\\lib\\site-packages\\pandas\\_libs\\index.pyx\u001b[0m in \u001b[0;36mpandas._libs.index.IndexEngine.get_loc\u001b[1;34m()\u001b[0m\n",
      "\u001b[1;32mpandas\\_libs\\hashtable_class_helper.pxi\u001b[0m in \u001b[0;36mpandas._libs.hashtable.PyObjectHashTable.get_item\u001b[1;34m()\u001b[0m\n",
      "\u001b[1;32mpandas\\_libs\\hashtable_class_helper.pxi\u001b[0m in \u001b[0;36mpandas._libs.hashtable.PyObjectHashTable.get_item\u001b[1;34m()\u001b[0m\n",
      "\u001b[1;31mKeyError\u001b[0m: 'Departamento'",
      "\nThe above exception was the direct cause of the following exception:\n",
      "\u001b[1;31mKeyError\u001b[0m                                  Traceback (most recent call last)",
      "\u001b[1;32m~\\AppData\\Local\\Temp/ipykernel_1932/2416419797.py\u001b[0m in \u001b[0;36m<module>\u001b[1;34m\u001b[0m\n\u001b[0;32m     11\u001b[0m )\n\u001b[0;32m     12\u001b[0m \u001b[1;31m# Filtrando datos\u001b[0m\u001b[1;33m\u001b[0m\u001b[1;33m\u001b[0m\u001b[0m\n\u001b[1;32m---> 13\u001b[1;33m \u001b[0mvotos\u001b[0m \u001b[1;33m=\u001b[0m \u001b[0mdf_votos\u001b[0m\u001b[1;33m.\u001b[0m\u001b[0mloc\u001b[0m\u001b[1;33m[\u001b[0m\u001b[0mdf_votos\u001b[0m\u001b[1;33m[\u001b[0m\u001b[1;34m'Departamento'\u001b[0m\u001b[1;33m]\u001b[0m \u001b[1;33m==\u001b[0m \u001b[0mcircunscripcion\u001b[0m\u001b[1;33m]\u001b[0m\u001b[1;33m\u001b[0m\u001b[1;33m\u001b[0m\u001b[0m\n\u001b[0m\u001b[0;32m     14\u001b[0m \u001b[0mcurules\u001b[0m \u001b[1;33m=\u001b[0m \u001b[0mdf_curules\u001b[0m\u001b[1;33m.\u001b[0m\u001b[0mloc\u001b[0m\u001b[1;33m[\u001b[0m\u001b[0mdf_curules\u001b[0m\u001b[1;33m[\u001b[0m\u001b[1;34m'Departamento'\u001b[0m\u001b[1;33m]\u001b[0m \u001b[1;33m==\u001b[0m \u001b[0mcircunscripcion\u001b[0m\u001b[1;33m]\u001b[0m\u001b[1;33m\u001b[0m\u001b[1;33m\u001b[0m\u001b[0m\n\u001b[0;32m     15\u001b[0m \u001b[1;31m# Ordenando datos\u001b[0m\u001b[1;33m\u001b[0m\u001b[1;33m\u001b[0m\u001b[0m\n",
      "\u001b[1;32mC:\\Python\\Python39\\lib\\site-packages\\pandas\\core\\frame.py\u001b[0m in \u001b[0;36m__getitem__\u001b[1;34m(self, key)\u001b[0m\n\u001b[0;32m   3456\u001b[0m             \u001b[1;32mif\u001b[0m \u001b[0mself\u001b[0m\u001b[1;33m.\u001b[0m\u001b[0mcolumns\u001b[0m\u001b[1;33m.\u001b[0m\u001b[0mnlevels\u001b[0m \u001b[1;33m>\u001b[0m \u001b[1;36m1\u001b[0m\u001b[1;33m:\u001b[0m\u001b[1;33m\u001b[0m\u001b[1;33m\u001b[0m\u001b[0m\n\u001b[0;32m   3457\u001b[0m                 \u001b[1;32mreturn\u001b[0m \u001b[0mself\u001b[0m\u001b[1;33m.\u001b[0m\u001b[0m_getitem_multilevel\u001b[0m\u001b[1;33m(\u001b[0m\u001b[0mkey\u001b[0m\u001b[1;33m)\u001b[0m\u001b[1;33m\u001b[0m\u001b[1;33m\u001b[0m\u001b[0m\n\u001b[1;32m-> 3458\u001b[1;33m             \u001b[0mindexer\u001b[0m \u001b[1;33m=\u001b[0m \u001b[0mself\u001b[0m\u001b[1;33m.\u001b[0m\u001b[0mcolumns\u001b[0m\u001b[1;33m.\u001b[0m\u001b[0mget_loc\u001b[0m\u001b[1;33m(\u001b[0m\u001b[0mkey\u001b[0m\u001b[1;33m)\u001b[0m\u001b[1;33m\u001b[0m\u001b[1;33m\u001b[0m\u001b[0m\n\u001b[0m\u001b[0;32m   3459\u001b[0m             \u001b[1;32mif\u001b[0m \u001b[0mis_integer\u001b[0m\u001b[1;33m(\u001b[0m\u001b[0mindexer\u001b[0m\u001b[1;33m)\u001b[0m\u001b[1;33m:\u001b[0m\u001b[1;33m\u001b[0m\u001b[1;33m\u001b[0m\u001b[0m\n\u001b[0;32m   3460\u001b[0m                 \u001b[0mindexer\u001b[0m \u001b[1;33m=\u001b[0m \u001b[1;33m[\u001b[0m\u001b[0mindexer\u001b[0m\u001b[1;33m]\u001b[0m\u001b[1;33m\u001b[0m\u001b[1;33m\u001b[0m\u001b[0m\n",
      "\u001b[1;32mC:\\Python\\Python39\\lib\\site-packages\\pandas\\core\\indexes\\base.py\u001b[0m in \u001b[0;36mget_loc\u001b[1;34m(self, key, method, tolerance)\u001b[0m\n\u001b[0;32m   3361\u001b[0m                 \u001b[1;32mreturn\u001b[0m \u001b[0mself\u001b[0m\u001b[1;33m.\u001b[0m\u001b[0m_engine\u001b[0m\u001b[1;33m.\u001b[0m\u001b[0mget_loc\u001b[0m\u001b[1;33m(\u001b[0m\u001b[0mcasted_key\u001b[0m\u001b[1;33m)\u001b[0m\u001b[1;33m\u001b[0m\u001b[1;33m\u001b[0m\u001b[0m\n\u001b[0;32m   3362\u001b[0m             \u001b[1;32mexcept\u001b[0m \u001b[0mKeyError\u001b[0m \u001b[1;32mas\u001b[0m \u001b[0merr\u001b[0m\u001b[1;33m:\u001b[0m\u001b[1;33m\u001b[0m\u001b[1;33m\u001b[0m\u001b[0m\n\u001b[1;32m-> 3363\u001b[1;33m                 \u001b[1;32mraise\u001b[0m \u001b[0mKeyError\u001b[0m\u001b[1;33m(\u001b[0m\u001b[0mkey\u001b[0m\u001b[1;33m)\u001b[0m \u001b[1;32mfrom\u001b[0m \u001b[0merr\u001b[0m\u001b[1;33m\u001b[0m\u001b[1;33m\u001b[0m\u001b[0m\n\u001b[0m\u001b[0;32m   3364\u001b[0m \u001b[1;33m\u001b[0m\u001b[0m\n\u001b[0;32m   3365\u001b[0m         \u001b[1;32mif\u001b[0m \u001b[0mis_scalar\u001b[0m\u001b[1;33m(\u001b[0m\u001b[0mkey\u001b[0m\u001b[1;33m)\u001b[0m \u001b[1;32mand\u001b[0m \u001b[0misna\u001b[0m\u001b[1;33m(\u001b[0m\u001b[0mkey\u001b[0m\u001b[1;33m)\u001b[0m \u001b[1;32mand\u001b[0m \u001b[1;32mnot\u001b[0m \u001b[0mself\u001b[0m\u001b[1;33m.\u001b[0m\u001b[0mhasnans\u001b[0m\u001b[1;33m:\u001b[0m\u001b[1;33m\u001b[0m\u001b[1;33m\u001b[0m\u001b[0m\n",
      "\u001b[1;31mKeyError\u001b[0m: 'Departamento'"
     ]
    }
   ],
   "source": [
    "# Cargando datos en dataframes\n",
    "circunscripcion = \"Nariño\"\n",
    "df_votos = pd.read_excel(\n",
    "    open(\"camara.xlsx\", \"rb\"),\n",
    "    sheet_name=\"Votos\",\n",
    "    index_col=0\n",
    ")\n",
    "df_curules = pd.read_excel(\n",
    "    open(\"camara.xlsx\", \"rb\"),\n",
    "    sheet_name=\"Curules\"\n",
    ")\n",
    "# Filtrando datos\n",
    "votos = df_votos.loc[df_votos['Departamento'] == circunscripcion]\n",
    "curules = df_curules.loc[df_curules['Departamento'] == circunscripcion]\n",
    "# Ordenando datos\n",
    "votos.T\n",
    "# Limpiando datos votación escrutinio final 2018\n",
    "nombre_listas = votos.to_dict(orient='split')['columns'][1:-1]\n",
    "votos_listas = votos.to_dict(orient='split')['data'][0][1:-1]\n",
    "votos_blancos = votos.to_dict(orient='split')['data'][0][-1]\n",
    "curules_camara_ordinaria = curules.to_dict(orient='split')['data'][0][-1]\n",
    "curules_camara_especial = 10\n",
    "numero_listas = range(len(votos_listas))\n",
    "print(votos.T)"
   ]
  },
  {
   "cell_type": "code",
   "execution_count": 4,
   "metadata": {},
   "outputs": [
    {
     "data": {
      "text/plain": [
       "47520.6"
      ]
     },
     "execution_count": 4,
     "metadata": {},
     "output_type": "execute_result"
    }
   ],
   "source": [
    "# Cálculo de credenciales senado escrutinio final 2018\n",
    "suma_listas = sum(votos_listas)\n",
    "votos_validos = suma_listas + votos_blancos\n",
    "cuociente = votos_validos/curules_camara_ordinaria\n",
    "umbral_old = cuociente/2\n",
    "personeria = round(votos_validos*(3/100))\n",
    "umbral = max(umbral_old, personeria)\n",
    "cifra_repartidora = repartidora(votos_listas, curules_camara_ordinaria)\n",
    "proporciones, restos = cocientes(votos_listas, curules_camara_ordinaria)\n",
    "# Distribución de curules\n",
    "curules_proporcional = distribucion_proporcional(votos_listas, curules_camara_ordinaria)\n",
    "curules_promedio = distribucion_promedio(votos_listas, cifra_repartidora, umbral)\n",
    "curules_resto = distribucion_resto(votos_listas, curules_camara_ordinaria)\n",
    "# Acumulado de curules\n",
    "suma_proporcional = sum(curules_proporcional)\n",
    "suma_promedio = sum(curules_promedio)\n",
    "suma_resto = sum(curules_resto)"
   ]
  },
  {
   "cell_type": "code",
   "execution_count": 5,
   "metadata": {},
   "outputs": [
    {
     "name": "stdout",
     "output_type": "stream",
     "text": [
      "************************************\n",
      "      Circunscripción : NARIÑO      \n",
      "************************************\n",
      " Validos             :      475,206\n",
      " Curules a proveer   :            5\n",
      " Cuociente electoral :       95,041\n",
      " Umbral              :       47,521\n",
      " Repartidora         :       67,140\n",
      "************************************\n"
     ]
    }
   ],
   "source": [
    "print(f\"*\"*36)\n",
    "print((\"Circunscripción : \" + circunscripcion.upper()).center(36))\n",
    "print(f\"*\"*36)\n",
    "print(f\" Validos             : {votos_validos:12,.0f}\")\n",
    "print(f\" Curules a proveer   : {curules_camara_ordinaria:12,.0f}\")\n",
    "print(f\" Cuociente electoral : {cuociente:12,.0f}\")\n",
    "print(f\" Umbral              : {umbral:12,.0f}\")\n",
    "print(f\" Repartidora         : {cifra_repartidora:12,.0f}\")\n",
    "print(f\"*\"*36)"
   ]
  },
  {
   "cell_type": "code",
   "execution_count": null,
   "metadata": {},
   "outputs": [],
   "source": []
  },
  {
   "cell_type": "code",
   "execution_count": 10,
   "metadata": {},
   "outputs": [
    {
     "name": "stdout",
     "output_type": "stream",
     "text": [
      "------------------------------------------------------------------------\n",
      "|NUM | NOMBRE        | VOTOS     |D.PROP |D.PROM |D.REST |   RESTO     |\n",
      "------------------------------------------------------------------------\n",
      "|  1 | Liberal       |    75,888 |     0 |     1 |     1 |     379,440 |\n",
      "|  2 | Conservador   |   140,738 |     1 |     2 |     1 |     256,065 |\n",
      "|  3 | OC            |     1,232 |     0 |     0 |     0 |       6,160 |\n",
      "|  4 | Radical       |    67,140 |     0 |     1 |     1 |     335,700 |\n",
      "|  5 | Mira          |    10,969 |     0 |     0 |     0 |      54,845 |\n",
      "|  6 | Unidad        |    68,699 |     0 |     1 |     1 |     343,495 |\n",
      "|  7 | Polo          |    60,504 |     0 |     0 |     1 |     302,520 |\n",
      "|  8 | Democratico   |    15,187 |     0 |     0 |     0 |      75,935 |\n",
      "|  9 | Somos         |     6,181 |     0 |     0 |     0 |      30,905 |\n",
      "| 10 | TSC           |     1,087 |     0 |     0 |     0 |       5,435 |\n",
      "------------------------------------------------------------------------\n",
      "| TOTALES    |     447,625 |     1 |     5 |     5 |\n",
      "----------------------------------------------------\n"
     ]
    }
   ],
   "source": [
    "print(f\"-\"*72)\n",
    "print(f\"|NUM | {'NOMBRE'.ljust(14)}| {'VOTOS'.ljust(10)}|D.PROP |D.PROM |D.REST |{'RESTO'.center(12)} |\")\n",
    "print(f\"-\"*72)\n",
    "for item in numero_listas:\n",
    "    print(\n",
    "        f\"|{item+1:3.0f} | {nombre_listas[item].ljust(14)}|{votos_listas[item]:10,.0f}\",\n",
    "        f\"|{curules_proporcional[item]:6.0f} |{curules_promedio[item]:6.0f}\",\n",
    "        f\"|{curules_resto[item]:6.0f} |{restos[item]:12,.0f} |\")\n",
    "print(f\"-\"*72)\n",
    "print(\n",
    "    f\"| TOTALES    |{suma_listas:12,.0f} |{suma_proporcional:6.0f} |{suma_promedio:6.0f} |{suma_resto:6.0f} |\")\n",
    "print(f\"-\"*52)\n"
   ]
  },
  {
   "cell_type": "markdown",
   "metadata": {},
   "source": [
    "---\n",
    "## Mas Recursos\n",
    "\n",
    "- [Métodos del promedio mayor](https://es.wikipedia.org/wiki/M%C3%A9todo_de_promedios_mayores) (Wikipedia)\n",
    "- [Método d'Hondt](https://es.wikipedia.org/wiki/Sistema_D%27Hondt) (Wikipedia)\n",
    "- [Método Webster](https://es.wikipedia.org/wiki/M%C3%A9todo_Sainte-Lagu%C3%AB) (Wikipedia)\n",
    "- [Métodos del resto mayor](https://es.wikipedia.org/wiki/M%C3%A9todo_del_resto_mayor) (Wikipedia)"
   ]
  }
 ],
 "metadata": {
  "interpreter": {
   "hash": "ee5cc6fef2d70a7e71ee3826687cbd150f18158e0b1eef11d4f4f92bb920e304"
  },
  "kernelspec": {
   "display_name": "Python 3.9.9 64-bit",
   "language": "python",
   "name": "python3"
  },
  "language_info": {
   "codemirror_mode": {
    "name": "ipython",
    "version": 3
   },
   "file_extension": ".py",
   "mimetype": "text/x-python",
   "name": "python",
   "nbconvert_exporter": "python",
   "pygments_lexer": "ipython3",
   "version": "3.9.9"
  },
  "orig_nbformat": 4
 },
 "nbformat": 4,
 "nbformat_minor": 2
}

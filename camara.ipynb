{
 "cells": [
  {
   "cell_type": "markdown",
   "metadata": {},
   "source": [
    "## Cámara\n",
    "<p><code>Python en Jupyter Notebook</code></p>\n",
    "<p>Creado por <code>Giancarlo Ortiz</code> para explicar el método electoral <code>no proporcional</code></p>\n",
    "\n",
    "El sistema electoral vigente en Colombia se encuentra definido en la reforma constitucional del [acto legislativo 01 de 2003](http://www.secretariasenado.gov.co/senado/basedoc/acto_legislativo_01_2003.html) que define metodos de cifra repartidora y umbral para las elecciones de las dos Cámaras del congreso de la republica. \n",
    "\n",
    "## Agenda\n",
    "1. Métodos no lineales\n",
    "1. Cifra repartidora\n",
    "1. Método d'Hondt\n",
    "1. Umbral"
   ]
  },
  {
   "cell_type": "code",
   "execution_count": 1,
   "metadata": {},
   "outputs": [],
   "source": [
    "import colorama\n",
    "import pandas as pd\n",
    "import pylab as plt"
   ]
  },
  {
   "cell_type": "markdown",
   "metadata": {},
   "source": [
    "### 1. Métodos no lineales\n",
    "---\n",
    "En un sistema electoral existen métodos [no lineales](https://es.wikipedia.org/wiki/Sistema_no_lineal) para repartir los escaños de un cuerpo colegiado, los más conocidos se basan en el promedio mayor y el resto mayor; los métodos de promedio mayor son menos lineales y asignan más escaños a los promedios más altos y los métodos de resto mayor asignan más escaños a los retos más altos.\n",
    "\n",
    "### 2. Cifra repartidora\n",
    "---\n",
    "Los métodos de promedio mayor se basan en la división sucesiva de los votos de cada una de las listas por una sucesión de números para producir una tabla de cocientes llamados promedios, finalmente de todos estos promedios se escogen los mayores de acuerdo a una cifra mínima o cifra repartidora.\n",
    "\n",
    "### 3. Método d'Hondt \n",
    "---\n",
    "Los métodos de promedio mayor o de cifra repartidora comúnmente utilizados son el método d'Hondt y el Método Sainte-Laguë o Webster, en el primero los divisores son los números naturales (1, 2, 3, ...) y en el segundo solo los números impares (1, 3, 5, ...), de modo que las fórmulas de los cocientes d'Hondt y de Webster en cada iteración se pueden expresar como:\n",
    "\n",
    "\\begin{equation*}\n",
    "Ch_{i,j} = \\frac{V_i}{S_j + 1}\n",
    "\\end{equation*}\n",
    "\n",
    "\\begin{equation*}\n",
    "Cw_{i,j} = \\frac{V_i}{2S_j + 1}\n",
    "\\end{equation*}\n",
    "\n",
    "\n",
    "><br>**Donde:** \n",
    ">* $Ch_j$ es el coeficiente d'Hondt.\n",
    ">* $Cw_j$ es el coeficiente de Webster.\n",
    ">* $V_i$ es el número total de votos para la i-ésima lista.\n",
    ">* $S_j$ es el número j-ésimo de escaños conseguidos por la i-ésima lista.\n",
    "><br><br>\n",
    "\n",
    "\n",
    "### 4. Umbral \n",
    "---\n",
    "En cualquiera de los métodos para repartir curules se puede establecer un umbral o limite inferior a partir del cual una lista no acumula credenciales sin importar la cifra repartidora, en el caso de la Cámara este es la mitad del cuociente electoral que depende de los votos válidos, donde los votos válidos incluyen a la suma de los votos de cada una de las listas y los votos en blanco.\n",
    "\n",
    "\\begin{equation*}\n",
    "Cuociente = \\frac{V}{c}\n",
    "\\end{equation*}\n",
    "\n",
    "\\begin{equation*}\n",
    "Umbral = \\frac{V}{2c}\n",
    "\\end{equation*}\n",
    "\n",
    "\\begin{equation*}\n",
    "V = \\sum{V_i} + V_{blanco}\n",
    "\\end{equation*}"
   ]
  },
  {
   "cell_type": "markdown",
   "metadata": {},
   "source": [
    "### <code>Ejemplo:</code> método D'Hondt\n",
    "---\n",
    "Cálculo de credenciales al senado para cada lista en el escrutinio final de las elecciones legislativas de 2018, realizadas el domingo 11 de marzo en Colombia."
   ]
  },
  {
   "cell_type": "code",
   "execution_count": 7,
   "metadata": {},
   "outputs": [],
   "source": [
    "# Funciones\n",
    "def repartidora(validos_listas: list, max_curules: int) -> int:\n",
    "    ''' Función que calcula la cifra repartidora '''\n",
    "    values = []\n",
    "    tabla = [\n",
    "        [0 for col in range(max_curules)]\n",
    "        for row in range(len(validos_listas))\n",
    "    ]\n",
    "    count = -1\n",
    "    for votos in validos_listas:\n",
    "        count += 1\n",
    "        for item in range(max_curules):\n",
    "            value = votos/(item+1)\n",
    "            values.append(value)\n",
    "            tabla[count][item] = value\n",
    "    return round(sorted(values)[-max_curules-2])\n",
    "\n",
    "\n",
    "def cocientes(validos_listas: list, max_curules: int) -> list:\n",
    "    ''' Función que calcula las curules para cada lista proporcionalmente '''\n",
    "    suma = sum(validos_listas)\n",
    "    proporciones = []\n",
    "    resto = []\n",
    "    for votos in validos_listas:\n",
    "        proporciones.append(votos*max_curules/suma)\n",
    "        resto.append((votos*max_curules) % suma)\n",
    "    return proporciones, resto\n",
    "\n",
    "\n",
    "def distribucion_proporcional(validos_listas: list, max_curules: int) -> list:\n",
    "    ''' Función que calcula las curules para cada lista proporcionalmente '''\n",
    "    suma = sum(validos_listas)\n",
    "    curules = []\n",
    "    for votos in validos_listas:\n",
    "        curules.append((votos*max_curules) // suma)\n",
    "    return curules\n",
    "\n",
    "\n",
    "def distribucion_promedio(validos_listas: list, cifra_repartidora: int, umbral: int) -> list:\n",
    "    ''' Función que Calcula las curules para cada lista con el método máximo promedio D'Hondt '''\n",
    "    curules = []\n",
    "    for item in validos_listas:\n",
    "        if item >= umbral:\n",
    "            curules.append(int(item/cifra_repartidora))\n",
    "        else:\n",
    "            curules.append(0)\n",
    "    return curules\n",
    "\n",
    "\n",
    "def distribucion_resto(validos_listas: list, max_curules: int) -> list:\n",
    "    ''' Función que Calcula las curules para cada lista con el método máximo resto '''\n",
    "    proporciones, resto = cocientes(validos_listas, max_curules)\n",
    "    proporcionales = distribucion_proporcional(validos_listas, max_curules)\n",
    "    curules_resto = max_curules - sum(proporcionales)\n",
    "    minimo = sorted(resto)[-curules_resto]\n",
    "    curules = []\n",
    "    count = -1\n",
    "    for item in resto:\n",
    "        count += 1\n",
    "        if item >= minimo:\n",
    "            curules.append(proporcionales[count]+1)\n",
    "        else:\n",
    "            curules.append(proporcionales[count])\n",
    "    return curules\n"
   ]
  },
  {
   "cell_type": "code",
   "execution_count": 9,
   "metadata": {},
   "outputs": [
    {
     "data": {
      "text/plain": [
       "{'Departamento': {21: 'Nariño'},\n",
       " 'Liberal': {21: 75888.0},\n",
       " 'Conservador ': {21: 140738.0},\n",
       " 'OC': {21: 1232.0},\n",
       " 'Radical': {21: 67140.0},\n",
       " 'Mira': {21: 10969.0},\n",
       " 'Unidad': {21: 68699.0},\n",
       " 'Polo': {21: 60504.0},\n",
       " 'Democratico': {21: 15187.0},\n",
       " 'Somos': {21: 6181.0},\n",
       " 'TSC': {21: 1087.0},\n",
       " 'Blanco': {21: 27581.0}}"
      ]
     },
     "execution_count": 9,
     "metadata": {},
     "output_type": "execute_result"
    }
   ],
   "source": [
    "data = pd.read_excel(\n",
    "    open(\"camaras.xlsx\", \"rb\"),\n",
    "    sheet_name=\"Votos\" #,\n",
    "    #index_col=\n",
    ")\n",
    "Dpto = data.loc[data['Departamento'] == \"Nariño\"]\n",
    "Dpto.to_dict()\n",
    "#pd.DataFrame.to_dict"
   ]
  },
  {
   "cell_type": "code",
   "execution_count": 14,
   "metadata": {},
   "outputs": [],
   "source": [
    "# Datos votación escrutinio final 2018\n",
    "pd.read_excel(\n",
    "    open(\"camara.xlsx\", \"rb\"),\n",
    "    sheet_name=\"Votos\"\n",
    ")\n",
    "\n",
    "\n",
    "nombre_listas = [\n",
    "    \"PL\", \"CD\", \"CR\", \"PU\", \"PC\", \"AV\", \"MIR\", \"PDA\", \"OC\", \"DC1\", \"JL\", \"SOM\", \"CC\", \"ASI\",\n",
    "    \"CAS\", \"DC2\", \"MAI\", \"UP\", \"CM\", \"DC3\", \"SP\", \"AV2\", \"AV3\", \"TSC\", \"AIC\", \"AV4\", \"MIR\"\n",
    "]\n",
    "votos_listas = [\n",
    "    2_447_531, 2_380_398, 2_141_213, 1_824_832, 1_802_994, 880_443, 576_813, 438_399, 307_516,\n",
    "    260_712, 128_653, 159_968, 118_519, 109_275, 70_502, 48_318, 43_776, 42_114, 33_956, 33_606,\n",
    "    21_581, 17_732, 16_275, 11_082, 4_902, 3_123\n",
    "]\n",
    "votos_blancos = 815_498\n",
    "curules_camara_ordinaria = 161\n",
    "curules_camara_especial = 10\n",
    "numero_listas = range(len(votos_listas))\n"
   ]
  },
  {
   "cell_type": "code",
   "execution_count": 9,
   "metadata": {},
   "outputs": [
    {
     "data": {
      "text/plain": [
       "442192"
      ]
     },
     "execution_count": 9,
     "metadata": {},
     "output_type": "execute_result"
    }
   ],
   "source": [
    "# Cálculo de credenciales senado escrutinio final 2018\n",
    "suma_listas = sum(votos_listas)\n",
    "votos_validos = suma_listas + votos_blancos\n",
    "umbral_old = votos_validos/(2*curules_camara_ordinaria)\n",
    "personeria = round(votos_validos*(3/100))\n",
    "umbral = max(umbral_old, personeria)\n",
    "cifra_repartidora = repartidora(votos_listas, curules_camara_ordinaria)\n",
    "proporciones, restos = cocientes(votos_listas, curules_camara_ordinaria)\n",
    "# Distribución de curules\n",
    "curules_proporcional = distribucion_proporcional(votos_listas, curules_camara_ordinaria)\n",
    "curules_promedio = distribucion_promedio(votos_listas, cifra_repartidora, umbral)\n",
    "curules_resto = distribucion_resto(votos_listas, curules_camara_ordinaria)\n",
    "# Acumulado de curules\n",
    "suma_proporcional = sum(curules_proporcional)\n",
    "suma_promedio = sum(curules_promedio)\n",
    "suma_resto = sum(curules_resto)\n",
    "umbral"
   ]
  },
  {
   "cell_type": "code",
   "execution_count": 10,
   "metadata": {},
   "outputs": [
    {
     "name": "stdout",
     "output_type": "stream",
     "text": [
      "******************************\n",
      "Validos      :      14,739,731\n",
      "Umbral       :         442,192\n",
      "Repartidora  :          79,984\n",
      "******************************\n",
      "---------------------------------------------------------------------\n",
      "|NUM |NOMBRE |VOTOS        |D.PROP |D.PROM |D.REST |     RESTO      |\n",
      "---------------------------------------------------------------------\n",
      "|  1 |   PL  |   2,447,531 |    28 |    30 |    28 |      4,173,967 |\n",
      "|  2 |   CD  |   2,380,398 |    27 |    29 |    28 |      7,289,787 |\n",
      "|  3 |   CR  |   2,141,213 |    24 |    26 |    25 |     10,553,701 |\n",
      "|  4 |   PU  |   1,824,832 |    21 |    22 |    21 |      1,389,059 |\n",
      "|  5 |   PC  |   1,802,994 |    20 |    22 |    21 |     11,797,374 |\n",
      "|  6 |   AV  |     880,443 |    10 |    11 |    10 |      2,508,993 |\n",
      "|  7 |  MIR  |     576,813 |     6 |     7 |     7 |      9,321,495 |\n",
      "|  8 |  PDA  |     438,399 |     5 |     0 |     5 |        961,074 |\n",
      "|  9 |   OC  |     307,516 |     3 |     0 |     4 |      7,737,377 |\n",
      "| 10 |  DC1  |     260,712 |     3 |     0 |     3 |        201,933 |\n",
      "| 11 |   JL  |     128,653 |     1 |     0 |     2 |      6,788,900 |\n",
      "| 12 |  SOM  |     159,968 |     1 |     0 |     2 |     11,830,615 |\n",
      "| 13 |   CC  |     118,519 |     1 |     0 |     1 |      5,157,326 |\n",
      "| 14 |  ASI  |     109,275 |     1 |     0 |     1 |      3,669,042 |\n",
      "| 15 |  CAS  |      70,502 |     0 |     0 |     1 |     11,350,822 |\n",
      "| 16 |  DC2  |      48,318 |     0 |     0 |     1 |      7,779,198 |\n",
      "| 17 |  MAI  |      43,776 |     0 |     0 |     1 |      7,047,936 |\n",
      "| 18 |   UP  |      42,114 |     0 |     0 |     0 |      6,780,354 |\n",
      "| 19 |   CM  |      33,956 |     0 |     0 |     0 |      5,466,916 |\n",
      "| 20 |  DC3  |      33,606 |     0 |     0 |     0 |      5,410,566 |\n",
      "| 21 |   SP  |      21,581 |     0 |     0 |     0 |      3,474,541 |\n",
      "| 22 |  AV2  |      17,732 |     0 |     0 |     0 |      2,854,852 |\n",
      "| 23 |  AV3  |      16,275 |     0 |     0 |     0 |      2,620,275 |\n",
      "| 24 |  TSC  |      11,082 |     0 |     0 |     0 |      1,784,202 |\n",
      "| 25 |  AIC  |       4,902 |     0 |     0 |     0 |        789,222 |\n",
      "| 26 |  AV4  |       3,123 |     0 |     0 |     0 |        502,803 |\n",
      "---------------------------------------------------------------------\n",
      "| TOTALES    |  13,924,233 |   151 |   147 |   161 |\n",
      "----------------------------------------------------\n"
     ]
    }
   ],
   "source": [
    "print(f\"*\"*30)\n",
    "print(f\"Validos      : {votos_validos:15,.0f}\")\n",
    "print(f\"Umbral       : {umbral:15,.0f}\")\n",
    "print(f\"Repartidora  : {cifra_repartidora:15,.0f}\")\n",
    "print(f\"*\"*30)\n",
    "print(f\"-\"*69)\n",
    "print(f\"|NUM |NOMBRE |{'VOTOS'.ljust(12)} |D.PROP |D.PROM |D.REST |{'RESTO'.center(15)} |\")\n",
    "print(f\"-\"*69)\n",
    "for item in numero_listas:\n",
    "    print(\n",
    "        f\"|{item+1:3.0f} |{nombre_listas[item].center(7)}|{votos_listas[item]:12,.0f}\",\n",
    "        f\"|{curules_proporcional[item]:6.0f} |{curules_promedio[item]:6.0f}\",\n",
    "        f\"|{curules_resto[item]:6.0f} |{restos[item]:15,.0f} |\")\n",
    "print(f\"-\"*69)\n",
    "print(\n",
    "    f\"| TOTALES    |{suma_listas:12,.0f} |{suma_proporcional:6.0f} |{suma_promedio:6.0f} |{suma_resto:6.0f} |\")\n",
    "print(f\"-\"*52)\n"
   ]
  },
  {
   "cell_type": "markdown",
   "metadata": {},
   "source": [
    "---\n",
    "## Mas Recursos\n",
    "\n",
    "- [Métodos del promedio mayor](https://es.wikipedia.org/wiki/M%C3%A9todo_de_promedios_mayores) (Wikipedia)\n",
    "- [Método d'Hondt](https://es.wikipedia.org/wiki/Sistema_D%27Hondt) (Wikipedia)\n",
    "- [Método Webster](https://es.wikipedia.org/wiki/M%C3%A9todo_Sainte-Lagu%C3%AB) (Wikipedia)\n",
    "- [Métodos del resto mayor](https://es.wikipedia.org/wiki/M%C3%A9todo_del_resto_mayor) (Wikipedia)"
   ]
  }
 ],
 "metadata": {
  "interpreter": {
   "hash": "ee5cc6fef2d70a7e71ee3826687cbd150f18158e0b1eef11d4f4f92bb920e304"
  },
  "kernelspec": {
   "display_name": "Python 3.9.9 64-bit",
   "language": "python",
   "name": "python3"
  },
  "language_info": {
   "codemirror_mode": {
    "name": "ipython",
    "version": 3
   },
   "file_extension": ".py",
   "mimetype": "text/x-python",
   "name": "python",
   "nbconvert_exporter": "python",
   "pygments_lexer": "ipython3",
   "version": "3.9.9"
  },
  "orig_nbformat": 4
 },
 "nbformat": 4,
 "nbformat_minor": 2
}

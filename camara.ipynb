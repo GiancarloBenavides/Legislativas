{
 "cells": [
  {
   "cell_type": "markdown",
   "metadata": {},
   "source": [
    "## Cámara\n",
    "<p><code>Python en Jupyter Notebook</code></p>\n",
    "<p>Creado por <code>Giancarlo Ortiz</code> para explicar el método electoral <code>no proporcional</code></p>\n",
    "\n",
    "El sistema electoral vigente en Colombia se encuentra definido en la reforma constitucional del [acto legislativo 01 de 2003](http://www.secretariasenado.gov.co/senado/basedoc/acto_legislativo_01_2003.html) que define metodos de cifra repartidora y umbral para las elecciones de las dos Cámaras del congreso de la republica. \n",
    "\n",
    "## Agenda\n",
    "1. Métodos no lineales\n",
    "1. Cifra repartidora\n",
    "1. Método d'Hondt\n",
    "1. Umbral"
   ]
  },
  {
   "cell_type": "code",
   "execution_count": 4,
   "metadata": {},
   "outputs": [],
   "source": [
    "import pandas as pd\n",
    "import pylab as plt"
   ]
  },
  {
   "cell_type": "markdown",
   "metadata": {},
   "source": [
    "### 1. Métodos no lineales\n",
    "---\n",
    "En un sistema electoral existen métodos [no lineales](https://es.wikipedia.org/wiki/Sistema_no_lineal) para repartir los escaños de un cuerpo colegiado, los más conocidos se basan en el promedio mayor y el resto mayor; los métodos de promedio mayor son menos lineales y asignan más escaños a los promedios más altos y los métodos de resto mayor asignan más escaños a los retos más altos.\n",
    "\n",
    "### 2. Cifra repartidora\n",
    "---\n",
    "Los métodos de promedio mayor se basan en la división sucesiva de los votos de cada una de las listas por una sucesión de números para producir una tabla de cocientes llamados promedios, finalmente de todos estos promedios se escogen los mayores de acuerdo a una cifra mínima o cifra repartidora.\n",
    "\n",
    "### 3. Método d'Hondt \n",
    "---\n",
    "Los métodos de promedio mayor o de cifra repartidora comúnmente utilizados son el método d'Hondt y el Método Sainte-Laguë o Webster, en el primero los divisores son los números naturales (1, 2, 3, ...) y en el segundo solo los números impares (1, 3, 5, ...), de modo que las fórmulas de los cocientes d'Hondt y de Webster en cada iteración se pueden expresar como:\n",
    "\n",
    "\\begin{equation*}\n",
    "Ch_{i,j} = \\frac{V_i}{S_j + 1}\n",
    "\\end{equation*}\n",
    "\n",
    "\\begin{equation*}\n",
    "Cw_{i,j} = \\frac{V_i}{2S_j + 1}\n",
    "\\end{equation*}\n",
    "\n",
    "\n",
    "><br>**Donde:** \n",
    ">* $Ch_j$ es el coeficiente d'Hondt.\n",
    ">* $Cw_j$ es el coeficiente de Webster.\n",
    ">* $V_i$ es el número total de votos para la i-ésima lista.\n",
    ">* $S_j$ es el número j-ésimo de escaños conseguidos por la i-ésima lista.\n",
    "><br><br>\n",
    "\n",
    "\n",
    "### 4. Umbral \n",
    "---\n",
    "En cualquiera de los métodos para repartir curules se puede establecer un umbral o limite inferior a partir del cual una lista no acumula credenciales sin importar la cifra repartidora, en el caso de la Cámara este es la mitad del cuociente electoral que depende de los votos válidos, donde los votos válidos incluyen a la suma de los votos de cada una de las listas y los votos en blanco.\n",
    "\n",
    "\\begin{equation*}\n",
    "Cuociente = \\frac{V}{c}\n",
    "\\end{equation*}\n",
    "\n",
    "\\begin{equation*}\n",
    "Umbral = \\frac{V}{2c}\n",
    "\\end{equation*}\n",
    "\n",
    "\\begin{equation*}\n",
    "V = \\sum{V_i} + V_{blanco}\n",
    "\\end{equation*}"
   ]
  },
  {
   "cell_type": "markdown",
   "metadata": {},
   "source": [
    "### <code>Ejemplo:</code> método D'Hondt\n",
    "---\n",
    "Cálculo de credenciales al senado para cada lista en el escrutinio final de las elecciones legislativas de 2018, realizadas el domingo 11 de marzo en Colombia."
   ]
  },
  {
   "cell_type": "code",
   "execution_count": 5,
   "metadata": {},
   "outputs": [],
   "source": [
    "# Funciones\n",
    "def repartidora(validos_listas: list, max_curules: int) -> int:\n",
    "    ''' Función que calcula la cifra repartidora '''\n",
    "    values = []\n",
    "    tabla = [\n",
    "        [0 for col in range(max_curules)]\n",
    "        for row in range(len(validos_listas))\n",
    "    ]\n",
    "    count = -1\n",
    "    for votos in validos_listas:\n",
    "        count += 1\n",
    "        for item in range(max_curules):\n",
    "            value = votos/(item+1)\n",
    "            values.append(value)\n",
    "            tabla[count][item] = value\n",
    "    values = sorted(values, reverse=True)\n",
    "    return round(values[max_curules-1])\n",
    "\n",
    "\n",
    "def cocientes(validos_listas: list, max_curules: int) -> list:\n",
    "    ''' Función que calcula las curules para cada lista proporcionalmente '''\n",
    "    suma = sum(validos_listas)\n",
    "    proporciones = []\n",
    "    resto = []\n",
    "    for votos in validos_listas:\n",
    "        proporciones.append(votos*max_curules/suma)\n",
    "        resto.append((votos*max_curules) % suma)\n",
    "    return proporciones, resto\n",
    "\n",
    "\n",
    "def distribucion_proporcional(validos_listas: list, max_curules: int) -> list:\n",
    "    ''' Función que calcula las curules para cada lista proporcionalmente '''\n",
    "    suma = sum(validos_listas)\n",
    "    curules = []\n",
    "    for votos in validos_listas:\n",
    "        curules.append((votos*max_curules) // suma)\n",
    "    return curules\n",
    "\n",
    "\n",
    "def distribucion_promedio(validos_listas: list, cifra_repartidora: int, umbral: int) -> list:\n",
    "    ''' Función que Calcula las curules para cada lista con el método máximo promedio D'Hondt '''\n",
    "    curules = []\n",
    "    for item in validos_listas:\n",
    "        if item >= umbral:\n",
    "            curules.append(int(item/cifra_repartidora))\n",
    "        else:\n",
    "            curules.append(0)\n",
    "    return curules\n",
    "\n",
    "\n",
    "def distribucion_resto(validos_listas: list, max_curules: int) -> list:\n",
    "    ''' Función que Calcula las curules para cada lista con el método máximo resto '''\n",
    "    proporciones, resto = cocientes(validos_listas, max_curules)\n",
    "    proporcionales = distribucion_proporcional(validos_listas, max_curules)\n",
    "    curules_resto = int(max_curules - sum(proporcionales))\n",
    "    minimo = sorted(resto)[-curules_resto]\n",
    "    curules = []\n",
    "    count = -1\n",
    "    for item in resto:\n",
    "        count += 1\n",
    "        if item >= minimo:\n",
    "            curules.append(proporcionales[count]+1)\n",
    "        else:\n",
    "            curules.append(proporcionales[count])\n",
    "    return curules\n"
   ]
  },
  {
   "cell_type": "code",
   "execution_count": 6,
   "metadata": {},
   "outputs": [],
   "source": [
    "# Cargando datos en dataframes\n",
    "circunscripcion = \"Vaupés\"\n",
    "df = pd.read_excel(\n",
    "    open(\"camara.xlsx\", \"rb\"),\n",
    "    sheet_name=[\"Votos\", \"Curules\"],\n",
    "    index_col=0\n",
    ")\n",
    "# Filtrando datos\n",
    "votos: pd.Series = df[\"Votos\"].loc[circunscripcion]\n",
    "curules_camara_ordinaria = df[\"Curules\"].loc[circunscripcion][\"Curules\"]\n",
    "curules_camara_especial = 10\n",
    "votos_blancos = votos[\"Blanco\"]\n",
    "# Limpiando datos\n",
    "votos.dropna(inplace=True)\n",
    "numero_listas = range(len(votos)-1)\n",
    "# Ordenando datos\n",
    "votos.sort_values(ascending=False, inplace=True)\n",
    "votos.drop(\"Blanco\", inplace=True)\n",
    "# Limpiando datos votación escrutinio final 2018\n",
    "nombre_listas = votos.index\n",
    "votos_listas = votos.values\n"
   ]
  },
  {
   "cell_type": "code",
   "execution_count": 7,
   "metadata": {},
   "outputs": [],
   "source": [
    "# Cálculo de credenciales senado escrutinio final 2018\n",
    "suma_listas = sum(votos_listas)\n",
    "votos_validos = suma_listas + votos_blancos\n",
    "cuociente = votos_validos/curules_camara_ordinaria\n",
    "umbral_old = 0.3 * cuociente if curules_camara_ordinaria == 2 else 0.5 * cuociente\n",
    "personeria = round(votos_validos*(3/100))\n",
    "umbral = max(umbral_old, personeria)\n",
    "#\n",
    "listas_pasan = sum(map(lambda x: x >= umbral, votos_listas))\n",
    "cifra_repartidora = repartidora(votos_listas, curules_camara_ordinaria)\n",
    "proporciones, restos = cocientes(votos_listas, curules_camara_ordinaria)\n",
    "# Distribución de curules\n",
    "curules_proporcional = distribucion_proporcional(votos_listas, curules_camara_ordinaria)\n",
    "curules_promedio = distribucion_promedio(votos_listas, cifra_repartidora, umbral)\n",
    "curules_resto = distribucion_resto(votos_listas, curules_camara_ordinaria)\n",
    "# Acumulado de curules\n",
    "suma_proporcional = sum(curules_proporcional)\n",
    "suma_promedio = sum(curules_promedio)\n",
    "suma_resto = sum(curules_resto)\n"
   ]
  },
  {
   "cell_type": "code",
   "execution_count": 14,
   "metadata": {},
   "outputs": [
    {
     "name": "stdout",
     "output_type": "stream",
     "text": [
      "*************************************\n",
      "      Circunscripción : VAUPÉS      \n",
      "*************************************\n",
      " Validos             :     11,243\n",
      " Curules a proveer   :          2\n",
      " Cuociente electoral :      5,621.50\n",
      " Umbral              :      1,686\n",
      " Listas que pasan    :        3/5\n",
      " Repartidora         :      3,575\n",
      "*************************************\n"
     ]
    }
   ],
   "source": [
    "print(f\"*\"*37)\n",
    "print((\"Circunscripción : \" + circunscripcion.upper()).center(36))\n",
    "print(f\"*\"*37)\n",
    "print(f\" Validos             : {votos_validos:10,.0f}\")\n",
    "print(f\" Curules a proveer   : {curules_camara_ordinaria:10,.0f}\")\n",
    "print(f\" Cuociente electoral :    {cuociente:10,.2f}\")\n",
    "print(f\" Umbral              : {umbral:10,.0f}\")\n",
    "print(f\" Listas que pasan    : {(str(listas_pasan) + '/' + str(len(votos))).rjust(10)}\")\n",
    "print(f\" Repartidora         : {cifra_repartidora:10,.0f}\")\n",
    "print(f\"*\"*37)"
   ]
  },
  {
   "cell_type": "code",
   "execution_count": 9,
   "metadata": {},
   "outputs": [
    {
     "name": "stdout",
     "output_type": "stream",
     "text": [
      "------------------------------------------------------------------------\n",
      "                         CIRCUNSCRIPCIÓN VAUPÉS                         \n",
      "------------------------------------------------------------------------\n",
      "|NUM | NOMBRE        | VOTOS     |D.PROP |D.PROM |D.REST |   RESTO     |\n",
      "------------------------------------------------------------------------\n",
      "|  1 | Liberal       |     4,961 |     0 |     1 |     1 |       9,922 |\n",
      "|  2 | La U          |     3,575 |     0 |     1 |     1 |       7,150 |\n",
      "|  3 | Radical       |     2,358 |     0 |     0 |     0 |       4,716 |\n",
      "------------------------------------------------------------------------\n",
      "|  4 | Verde         |       192 |     0 |     0 |     0 |         384 |\n",
      "|  5 | OC -PIN       |        15 |     0 |     0 |     0 |          30 |\n",
      "------------------------------------------------------------------------\n",
      "|      TOTALES       |    11,101 |     0 |     2 |     2 |\n",
      "----------------------------------------------------------\n"
     ]
    }
   ],
   "source": [
    "print(f\"-\"*72)\n",
    "print((\"Circunscripción \" + circunscripcion).upper().center(72))\n",
    "print(f\"-\"*72)\n",
    "print(f\"|NUM | {'NOMBRE'.ljust(14)}| {'VOTOS'.ljust(10)}|D.PROP |D.PROM |D.REST |{'RESTO'.center(12)} |\")\n",
    "print(f\"-\"*72)\n",
    "for item in numero_listas:\n",
    "    if item == listas_pasan:\n",
    "        print(f\"-\"*72)\n",
    "    print(\n",
    "        f\"|{item+1:3.0f} | {nombre_listas[item].ljust(14)}|{votos_listas[item]:10,.0f}\",\n",
    "        f\"|{curules_proporcional[item]:6.0f} |{curules_promedio[item]:6.0f}\",\n",
    "        f\"|{curules_resto[item]:6.0f} |{restos[item]:12,.0f} |\")\n",
    "print(f\"-\"*72)\n",
    "print(\n",
    "    f\"|{'TOTALES'.center(20)}|{suma_listas:10,.0f} |{suma_proporcional:6.0f} |{suma_promedio:6.0f} |{suma_resto:6.0f} |\")\n",
    "print(f\"-\"*58)\n"
   ]
  },
  {
   "cell_type": "markdown",
   "metadata": {},
   "source": [
    "---\n",
    "## Mas Recursos\n",
    "\n",
    "- [Métodos del promedio mayor](https://es.wikipedia.org/wiki/M%C3%A9todo_de_promedios_mayores) (Wikipedia)\n",
    "- [Método d'Hondt](https://es.wikipedia.org/wiki/Sistema_D%27Hondt) (Wikipedia)\n",
    "- [Método Webster](https://es.wikipedia.org/wiki/M%C3%A9todo_Sainte-Lagu%C3%AB) (Wikipedia)\n",
    "- [Métodos del resto mayor](https://es.wikipedia.org/wiki/M%C3%A9todo_del_resto_mayor) (Wikipedia)"
   ]
  }
 ],
 "metadata": {
  "interpreter": {
   "hash": "ee5cc6fef2d70a7e71ee3826687cbd150f18158e0b1eef11d4f4f92bb920e304"
  },
  "kernelspec": {
   "display_name": "Python 3.9.9 64-bit",
   "language": "python",
   "name": "python3"
  },
  "language_info": {
   "codemirror_mode": {
    "name": "ipython",
    "version": 3
   },
   "file_extension": ".py",
   "mimetype": "text/x-python",
   "name": "python",
   "nbconvert_exporter": "python",
   "pygments_lexer": "ipython3",
   "version": "3.9.9"
  },
  "orig_nbformat": 4
 },
 "nbformat": 4,
 "nbformat_minor": 2
}

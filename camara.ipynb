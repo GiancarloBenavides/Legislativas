{
 "cells": [
  {
   "cell_type": "markdown",
   "metadata": {},
   "source": [
    "## Senado\n",
    "<p><code>Python en Jupyter Notebook</code></p>\n",
    "<p>Creado por <code>Giancarlo Ortiz</code> para explicar el método electoral <code>no proporcional</code></p>\n",
    "\n",
    "El sistema electoral vigente en Colombia se encuentra definido en la reforma constitucional del [acto legislativo 01 de 2003](http://www.secretariasenado.gov.co/senado/basedoc/acto_legislativo_01_2003.html) que define metodos de cifra repartidora y umbral para las elecciones de las dos Cámaras del congreso de la republica. \n",
    "\n",
    "## Agenda\n",
    "1. Métodos no lineales\n",
    "1. Cifra repartidora\n",
    "1. Método d'Hondt\n",
    "1. Umbral"
   ]
  },
  {
   "cell_type": "code",
   "execution_count": 7,
   "metadata": {},
   "outputs": [],
   "source": [
    "import colorama"
   ]
  },
  {
   "cell_type": "markdown",
   "metadata": {},
   "source": [
    "### 1. Métodos no lineales\n",
    "---\n",
    "En un sistema electoral existen métodos [no lineales](https://es.wikipedia.org/wiki/Sistema_no_lineal) para repartir los escaños de un cuerpo colegiado, los mas conocidos se basan en el promedio mayor y el resto mayor; los Métodos de promedio mayor son menos lineales y asignan mas escaños a los promedios más altos y los metodos de resto mayor asignan mas escaños a los retos más altos.\n",
    "\n",
    "### 2. Cifra repartidora\n",
    "---\n",
    "Los métodos de promedio mayor se basan en la division sucesiva de los votos de cada una de las listas por una sucesion de números para producir una tabla de cocientes llamados promedios, finalmente de todos estos promedios se escogen los mayores de acuerdo a una cifra minima o cifra repartidora.\n",
    "\n",
    "### 3. Método d'Hondt \n",
    "---\n",
    "Los metodos de promedio mayor o de cifra repartidora comúnmente utilizados son el método d'Hondt y el Método Sainte-Laguë o Webster, en el primero los divisores son los números naturales (1, 2, 3, ...) y en el segundo solo los números impares (1, 3, 5, ...), de modo que las formulas de los cocientes d'Hondt y de Webster en cada iteración se pueden expresar como:\n",
    "\n",
    "\\begin{equation*}\n",
    "Ch_{i,j} = \\frac{V_i}{S_j + 1}\n",
    "\\end{equation*}\n",
    "\n",
    "\\begin{equation*}\n",
    "Cw_{i,j} = \\frac{V_i}{2S_j + 1}\n",
    "\\end{equation*}\n",
    "\n",
    "\n",
    "><br>**Donde:** \n",
    ">* $Ch_j$ es el coeficiente d'Hondt.\n",
    ">* $Cw_j$ es el coeficiente de Webster.\n",
    ">* $V_i$ es el número total de votos para la i-ésima lista.\n",
    ">* $S_j$ es el número j-ésimo de escaños conseguidos por la i-ésima lista.\n",
    "><br><br>\n",
    "\n",
    "\n",
    "### 4. Umbral \n",
    "---\n",
    "En cualquiera de los métodos para repartir esca;os se puede establecer un umbral o limite inferior a partir del cual una lista no acumula esca;os sin importar la cifra repartidora.\n",
    "\n",
    "\\begin{equation*}\n",
    "Umbral = \\frac{V}{2c}\n",
    "\\end{equation*}"
   ]
  },
  {
   "cell_type": "markdown",
   "metadata": {},
   "source": [
    "### <code>Ejemplo:</code> método D'Hondt\n",
    "---\n",
    "Cálculo de credenciales al senado para cada lista en el escrutinio final de las elecciones legislativas de 2018, realizadas el domingo 11 de marzo en Colombia."
   ]
  },
  {
   "cell_type": "code",
   "execution_count": 8,
   "metadata": {},
   "outputs": [],
   "source": [
    "# Funciones\n",
    "def proporcional(votos: list, curules: int) -> list:\n",
    "    ''' Funcion que Calcula las curules para cada lista proporcionalmente '''\n",
    "    total_votos = sum(votos)\n",
    "    curules_por_lista = []\n",
    "    for votos_lista in votos:\n",
    "        curules_por_lista.append(votos_lista*curules/total_votos)\n",
    "    return curules_por_lista\n",
    "\n",
    "\n",
    "def repartidora(votos: list, curules: int) -> int:\n",
    "    ''' Funcion que Calcula la cifra repartidora '''\n",
    "    values = []\n",
    "    tabla = [[0 for col in range(curules)] for row in range(len(votos))]\n",
    "    lista = -1\n",
    "    for votos_lista in votos:\n",
    "        lista += 1\n",
    "        for item in range(curules):\n",
    "            value = votos_lista/(item+1)\n",
    "            values.append(value)\n",
    "            tabla[lista][item] = value\n",
    "    return round(sorted(values)[-curules-2])\n",
    "\n",
    "\n",
    "def credenciales(votos: list, repartidora: int, umbral: int) -> list:\n",
    "    ''' Funcion que Calcula las curules para cada lista con el metodo D'Hondt '''\n",
    "    curules = []\n",
    "    for item in votos:\n",
    "        if item >= umbral:\n",
    "            curules.append(int(item/repartidora))\n",
    "        else:\n",
    "            curules.append(0)\n",
    "    return curules\n"
   ]
  },
  {
   "cell_type": "code",
   "execution_count": 9,
   "metadata": {},
   "outputs": [],
   "source": [
    "# Datos votación escrutinio final 2018\n",
    "votos_listas = [2_508_534, 2_152_793, 1_930_197, 1_896_283, 1_854_349, 1_312_291,\n",
    "                725_244, 520_462, 495_106, 464_916, 345_342, 103_368, 58_023, 55_587, 34_555, 13_439]\n",
    "votos_blancos = 842_286\n",
    "curules_senado_ordinaria = 100\n",
    "curules_senado_especial = 8\n"
   ]
  },
  {
   "cell_type": "code",
   "execution_count": 10,
   "metadata": {},
   "outputs": [],
   "source": [
    "# Cálculo de credenciales senado escrutinio final 2018\n",
    "votos_validos = sum(votos_listas) + votos_blancos\n",
    "umbral = votos_validos*(3/100)\n",
    "cifra_repartidora = repartidora(votos_listas, curules_senado_ordinaria)\n",
    "curules_por_lista = credenciales(votos_listas, cifra_repartidora, umbral)\n"
   ]
  },
  {
   "cell_type": "code",
   "execution_count": 13,
   "metadata": {},
   "outputs": [
    {
     "name": "stdout",
     "output_type": "stream",
     "text": [
      "******************************\n",
      "Validos      :      15,312,775\n",
      "Umbral       :         459,383\n",
      "Repartidora  :         132,028\n",
      "*************************************\n",
      "|  1 |      2,508,534 |   19 |   17 |\n",
      "|  2 |      2,152,793 |   16 |   15 |\n",
      "|  3 |      1,930,197 |   14 |   13 |\n",
      "|  4 |      1,896,283 |   14 |   13 |\n",
      "|  5 |      1,854,349 |   14 |   13 |\n",
      "|  6 |      1,312,291 |    9 |    9 |\n",
      "|  7 |        725,244 |    5 |    5 |\n",
      "|  8 |        520,462 |    3 |    4 |\n",
      "|  9 |        495,106 |    3 |    3 |\n",
      "| 10 |        464,916 |    3 |    3 |\n",
      "| 11 |        345,342 |    0 |    2 |\n",
      "| 12 |        103,368 |    0 |    1 |\n",
      "| 13 |         58,023 |    0 |    0 |\n",
      "| 14 |         55,587 |    0 |    0 |\n",
      "| 15 |         34,555 |    0 |    0 |\n",
      "| 16 |         13,439 |    0 |    0 |\n",
      "*************************************\n",
      "|  T |     14,470,489 |  100 |\n"
     ]
    }
   ],
   "source": [
    "print(f\"*\"*30)\n",
    "print(f\"Validos      : {votos_validos:15,.0f}\")\n",
    "print(f\"Umbral       : {umbral:15,.0f}\")\n",
    "print(f\"Repartidora  : {cifra_repartidora:15,.0f}\")\n",
    "print(f\"*\"*37)\n",
    "for item in range(len(votos_listas)):\n",
    "    print(\n",
    "        f\"|{item+1:3.0f} |{votos_listas[item]:15,.0f} |{curules_por_lista[item]:5.0f} |{votos_listas[item]*curules_senado_ordinaria/sum(votos_listas):5.0f} |\")\n",
    "print(f\"*\"*37)\n",
    "print(f\"|  T |{sum(votos_listas):15,.0f} |{sum(curules_por_lista):5.0f} | {sum(curules_por_lista):5.0f} |\")\n"
   ]
  },
  {
   "cell_type": "markdown",
   "metadata": {},
   "source": [
    "---\n",
    "## Mas Recursos\n",
    "\n",
    "- [Métodos del promedio mayor](https://es.wikipedia.org/wiki/M%C3%A9todo_de_promedios_mayores) (Wikipedia)\n",
    "- [Método d'Hondt](https://es.wikipedia.org/wiki/Sistema_D%27Hondt) (Wikipedia)\n",
    "- [Método Webster](https://es.wikipedia.org/wiki/M%C3%A9todo_Sainte-Lagu%C3%AB) (Wikipedia)\n",
    "- [Métodos del resto mayor](https://es.wikipedia.org/wiki/M%C3%A9todo_del_resto_mayor) (Wikipedia)"
   ]
  }
 ],
 "metadata": {
  "interpreter": {
   "hash": "ee5cc6fef2d70a7e71ee3826687cbd150f18158e0b1eef11d4f4f92bb920e304"
  },
  "kernelspec": {
   "display_name": "Python 3.9.9 64-bit",
   "language": "python",
   "name": "python3"
  },
  "language_info": {
   "codemirror_mode": {
    "name": "ipython",
    "version": 3
   },
   "file_extension": ".py",
   "mimetype": "text/x-python",
   "name": "python",
   "nbconvert_exporter": "python",
   "pygments_lexer": "ipython3",
   "version": "3.9.9"
  },
  "orig_nbformat": 4
 },
 "nbformat": 4,
 "nbformat_minor": 2
}

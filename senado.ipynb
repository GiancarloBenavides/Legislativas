{
 "cells": [
  {
   "cell_type": "markdown",
   "metadata": {},
   "source": [
    "## Senado\n",
    "<p><code>Python en Jupyter Notebook</code></p>\n",
    "<p>Creado por <code>Giancarlo Ortiz</code> para explicar el método electoral <code>no proporcional</code></p>\n",
    "\n",
    "El sistema electoral vigente en Colombia se encuentra definido en la reforma constitucional del [acto legislativo 01 de 2003](http://www.secretariasenado.gov.co/senado/basedoc/acto_legislativo_01_2003.html) que define metodos de cifra repartidora y umbral para las elecciones de las dos Cámaras del congreso de la republica. \n",
    "\n",
    "## Agenda\n",
    "1. Métodos no lineales\n",
    "1. Cifra repartidora\n",
    "1. Método d'Hondt\n",
    "1. Umbral"
   ]
  },
  {
   "cell_type": "code",
   "execution_count": 1,
   "metadata": {},
   "outputs": [],
   "source": [
    "import colorama\n",
    "import pylab as plt"
   ]
  },
  {
   "cell_type": "markdown",
   "metadata": {},
   "source": [
    "### 1. Métodos no lineales\n",
    "---\n",
    "En un sistema electoral existen métodos [no lineales](https://es.wikipedia.org/wiki/Sistema_no_lineal) para repartir los escaños de un cuerpo colegiado, los más conocidos se basan en el promedio mayor y el resto mayor; los métodos de promedio mayor son menos lineales y asignan más escaños a los promedios más altos y los métodos de resto mayor asignan más escaños a los retos más altos.\n",
    "\n",
    "### 2. Cifra repartidora\n",
    "---\n",
    "Los métodos de promedio mayor se basan en la división sucesiva de los votos de cada una de las listas por una sucesión de números para producir una tabla de cocientes llamados promedios, finalmente de todos estos promedios se escogen los mayores de acuerdo a una cifra mínima o cifra repartidora.\n",
    "\n",
    "### 3. Método d'Hondt \n",
    "---\n",
    "Los métodos de promedio mayor o de cifra repartidora comúnmente utilizados son el método d'Hondt y el Método Sainte-Laguë o Webster, en el primero los divisores son los números naturales (1, 2, 3, ...) y en el segundo solo los números impares (1, 3, 5, ...), de modo que las fórmulas de los cocientes d'Hondt y de Webster en cada iteración se pueden expresar como:\n",
    "\n",
    "\\begin{equation*}\n",
    "Ch_{i,j} = \\frac{V_i}{S_j + 1}\n",
    "\\end{equation*}\n",
    "\n",
    "\\begin{equation*}\n",
    "Cw_{i,j} = \\frac{V_i}{2S_j + 1}\n",
    "\\end{equation*}\n",
    "\n",
    "\n",
    "><br>**Donde:** \n",
    ">* $Ch_j$ es el coeficiente d'Hondt.\n",
    ">* $Cw_j$ es el coeficiente de Webster.\n",
    ">* $V_i$ es el número total de votos para la i-ésima lista.\n",
    ">* $S_j$ es el número j-ésimo de escaños conseguidos por la i-ésima lista.\n",
    "><br><br>\n",
    "\n",
    "\n",
    "### 4. Umbral \n",
    "---\n",
    "En cualquiera de los métodos para repartir curules se puede establecer un umbral o limite inferior a partir del cual una lista no acumula credenciales sin importar la cifra repartidora, en el caso de senado este es el 3% de los votos válidos, donde los votos válidos incluyen a la suma de los votos de cada una de las listas y los votos en blanco.\n",
    "\n",
    "\\begin{equation*}\n",
    "Umbral = \\frac{3}{100}V\n",
    "\\end{equation*}\n",
    "\n",
    "\\begin{equation*}\n",
    "V = \\sum{V_i} + V_{blanco}\n",
    "\\end{equation*}"
   ]
  },
  {
   "cell_type": "markdown",
   "metadata": {},
   "source": [
    "### <code>Ejemplo:</code> método D'Hondt\n",
    "---\n",
    "Cálculo de credenciales al senado para cada lista en el escrutinio final de las elecciones legislativas de 2018, realizadas el domingo 11 de marzo en Colombia."
   ]
  },
  {
   "cell_type": "code",
   "execution_count": 2,
   "metadata": {},
   "outputs": [],
   "source": [
    "# Funciones\n",
    "def repartidora(validos_listas: list, max_curules: int) -> int:\n",
    "    ''' Función que calcula la cifra repartidora '''\n",
    "    values = []\n",
    "    tabla = [\n",
    "        [0 for col in range(max_curules)]\n",
    "        for row in range(len(validos_listas))\n",
    "    ]\n",
    "    count = -1\n",
    "    for votos in validos_listas:\n",
    "        count += 1\n",
    "        for item in range(max_curules):\n",
    "            value = votos/(item+1)\n",
    "            values.append(value)\n",
    "            tabla[count][item] = value\n",
    "    return round(sorted(values)[-max_curules-2])\n",
    "\n",
    "\n",
    "def cocientes(validos_listas: list, max_curules: int) -> list:\n",
    "    ''' Función que calcula las curules para cada lista proporcionalmente '''\n",
    "    suma = sum(validos_listas)\n",
    "    proporciones = []\n",
    "    resto = []\n",
    "    for votos in validos_listas:\n",
    "        proporciones.append(votos*max_curules/suma)\n",
    "        resto.append((votos*max_curules) % suma)\n",
    "    return proporciones, resto\n",
    "\n",
    "\n",
    "def distribucion_proporcional(validos_listas: list, max_curules: int) -> list:\n",
    "    ''' Función que calcula las curules para cada lista proporcionalmente '''\n",
    "    suma = sum(validos_listas)\n",
    "    curules = []\n",
    "    for votos in validos_listas:\n",
    "        curules.append((votos*max_curules) // suma)\n",
    "    return curules\n",
    "\n",
    "\n",
    "def distribucion_promedio(validos_listas: list, cifra_repartidora: int, umbral: int) -> list:\n",
    "    ''' Función que Calcula las curules para cada lista con el método máximo promedio D'Hondt '''\n",
    "    curules = []\n",
    "    for item in validos_listas:\n",
    "        if item >= umbral:\n",
    "            curules.append(int(item/cifra_repartidora))\n",
    "        else:\n",
    "            curules.append(0)\n",
    "    return curules\n",
    "\n",
    "\n",
    "def distribucion_resto(validos_listas: list, max_curules: int) -> list:\n",
    "    ''' Función que Calcula las curules para cada lista con el método máximo resto '''\n",
    "    proporciones, resto = cocientes(validos_listas, max_curules)\n",
    "    proporcionales = distribucion_proporcional(validos_listas, max_curules)\n",
    "    curules_resto = max_curules - sum(proporcionales)\n",
    "    minimo = sorted(resto)[-curules_resto]\n",
    "    curules = []\n",
    "    count = -1\n",
    "    for item in resto:\n",
    "        count += 1\n",
    "        if item >= minimo:\n",
    "            curules.append(proporcionales[count]+1)\n",
    "        else:\n",
    "            curules.append(proporcionales[count])\n",
    "    return curules\n"
   ]
  },
  {
   "cell_type": "code",
   "execution_count": 3,
   "metadata": {},
   "outputs": [],
   "source": [
    "# Datos votación escrutinio final 2018\n",
    "nombre_listas = [\"CD\", \"CR\", \"PC\", \"PL\", \"PU\", \"AV\",\"PD\", \"DC\", \"MR\", \"JL\", \"OC\", \"SR\", \"SC\", \"CM\", \"UF\", \"SP\"]\n",
    "votos_listas = [2_508_534, 2_152_793, 1_930_197, 1_896_283, 1_854_349, 1_312_291,\n",
    "                725_244, 520_462, 495_106, 464_916, 345_342, 103_368, 58_023, 55_587, 34_555, 13_439]\n",
    "votos_blancos = 842_286\n",
    "curules_senado_ordinaria = 100\n",
    "curules_senado_especial = 8\n",
    "numero_listas = range(len(votos_listas))"
   ]
  },
  {
   "cell_type": "code",
   "execution_count": 4,
   "metadata": {},
   "outputs": [],
   "source": [
    "# Cálculo de credenciales senado escrutinio final 2018\n",
    "suma_listas = sum(votos_listas)\n",
    "votos_validos = suma_listas + votos_blancos\n",
    "umbral = votos_validos*(3/100)\n",
    "cifra_repartidora = repartidora(votos_listas, curules_senado_ordinaria)\n",
    "proporciones, restos = cocientes(votos_listas, curules_senado_ordinaria)\n",
    "# Distribución de curules\n",
    "curules_proporcional = distribucion_proporcional(votos_listas, curules_senado_ordinaria)\n",
    "curules_promedio = distribucion_promedio(votos_listas, cifra_repartidora, umbral)\n",
    "curules_resto = distribucion_resto(votos_listas, curules_senado_ordinaria)\n",
    "# Acumulado de curules\n",
    "suma_proporcional = sum(curules_proporcional)\n",
    "suma_promedio = sum(curules_promedio)\n",
    "suma_resto = sum(curules_resto)"
   ]
  },
  {
   "cell_type": "code",
   "execution_count": 5,
   "metadata": {},
   "outputs": [
    {
     "name": "stdout",
     "output_type": "stream",
     "text": [
      "******************************\n",
      "Validos      :      15,312,775\n",
      "Umbral       :         459,383\n",
      "Repartidora  :         132,028\n",
      "******************************\n",
      "---------------------------------------------------------------------\n",
      "|NUM |NOMBRE |VOTOS        |D.PROP |D.PROM |D.REST |     RESTO      |\n",
      "---------------------------------------------------------------------\n",
      "|  1 |   CD  |   2,508,534 |    17 |    19 |    17 |      4,855,087 |\n",
      "|  2 |   CR  |   2,152,793 |    14 |    16 |    15 |     12,692,454 |\n",
      "|  3 |   PC  |   1,930,197 |    13 |    14 |    13 |      4,903,343 |\n",
      "|  4 |   PL  |   1,896,283 |    13 |    14 |    13 |      1,511,943 |\n",
      "|  5 |   PU  |   1,854,349 |    12 |    14 |    13 |     11,789,032 |\n",
      "|  6 |   AV  |   1,312,291 |     9 |     9 |     9 |        994,699 |\n",
      "|  7 |   PD  |     725,244 |     5 |     5 |     5 |        171,955 |\n",
      "|  8 |   DC  |     520,462 |     3 |     3 |     4 |      8,634,733 |\n",
      "|  9 |   MR  |     495,106 |     3 |     3 |     4 |      6,099,133 |\n",
      "| 10 |   JL  |     464,916 |     3 |     3 |     3 |      3,080,133 |\n",
      "| 11 |   OC  |     345,342 |     2 |     0 |     2 |      5,593,222 |\n",
      "| 12 |   SR  |     103,368 |     0 |     0 |     1 |     10,336,800 |\n",
      "| 13 |   SC  |      58,023 |     0 |     0 |     1 |      5,802,300 |\n",
      "| 14 |   CM  |      55,587 |     0 |     0 |     0 |      5,558,700 |\n",
      "| 15 |   UF  |      34,555 |     0 |     0 |     0 |      3,455,500 |\n",
      "| 16 |   SP  |      13,439 |     0 |     0 |     0 |      1,343,900 |\n",
      "---------------------------------------------------------------------\n",
      "| TOTALES    |  14,470,489 |    94 |   100 |   100 |\n",
      "----------------------------------------------------\n"
     ]
    }
   ],
   "source": [
    "print(f\"*\"*30)\n",
    "print(f\"Validos      : {votos_validos:15,.0f}\")\n",
    "print(f\"Umbral       : {umbral:15,.0f}\")\n",
    "print(f\"Repartidora  : {cifra_repartidora:15,.0f}\")\n",
    "print(f\"*\"*30)\n",
    "print(f\"-\"*69)\n",
    "print(f\"|NUM |NOMBRE |{'VOTOS'.ljust(12)} |D.PROP |D.PROM |D.REST |{'RESTO'.center(15)} |\")\n",
    "print(f\"-\"*69)\n",
    "for item in numero_listas:\n",
    "    print(\n",
    "        f\"|{item+1:3.0f} |{nombre_listas[item].center(7)}|{votos_listas[item]:12,.0f}\",\n",
    "        f\"|{curules_proporcional[item]:6.0f} |{curules_promedio[item]:6.0f}\",\n",
    "        f\"|{curules_resto[item]:6.0f} |{restos[item]:15,.0f} |\")\n",
    "print(f\"-\"*69)\n",
    "print(\n",
    "    f\"| TOTALES    |{suma_listas:12,.0f} |{suma_proporcional:6.0f} |{suma_promedio:6.0f} |{suma_resto:6.0f} |\")\n",
    "print(f\"-\"*52)\n"
   ]
  },
  {
   "cell_type": "code",
   "execution_count": 6,
   "metadata": {},
   "outputs": [],
   "source": [
    "# Modelos Lineales - lineas de tendencia\n",
    "x = plt.linspace(0, proporciones[0], 50)\n",
    "p0 = plt.polyfit(proporciones, curules_proporcional, 1)\n",
    "f0 = plt.poly1d(p0)\n",
    "\n",
    "p1 = plt.polyfit(proporciones, curules_promedio, 1)\n",
    "f1 = plt.poly1d(p1)\n",
    "\n",
    "p2 = plt.polyfit(proporciones, curules_resto, 1)\n",
    "f2 = plt.poly1d(p2)"
   ]
  },
  {
   "cell_type": "code",
   "execution_count": 7,
   "metadata": {},
   "outputs": [
    {
     "data": {
      "image/png": "[encoded data removed]",
      "text/plain": [
       "<Figure size 1152x288 with 3 Axes>"
      ]
     },
     "metadata": {
      "needs_background": "light"
     },
     "output_type": "display_data"
    }
   ],
   "source": [
    "# Gráfica en el plano de el cambio de la variable dependiente con el cambio de la variable independiente\n",
    "fig, ax = plt.subplots(1, 3)\n",
    "fig.set_size_inches(16, 4)\n",
    "fig.suptitle(\n",
    "    'Métodos de distribucion de curules'.upper(), fontsize=14, fontweight=\"bold\")\n",
    "\n",
    "# Gráficas 1\n",
    "ax[0].plot(proporciones, proporciones, color=\"#eee\", label=\"Lineal\")\n",
    "ax[0].plot(x, f0(x), color=\"#fdd\", label=\"Modelo\")\n",
    "ax[0].plot(\n",
    "    proporciones, curules_proporcional, 'ro', markersize=2, label=\"Datos\")\n",
    "ax[0].set_title(\"Distribución Proporcional\")\n",
    "ax[0].set_xlabel(\"Curules [número]\")\n",
    "ax[0].set_ylabel(\"Cocientes \")\n",
    "ax[0].legend()\n",
    "\n",
    "# Gráficas 2\n",
    "ax[1].plot(proporciones, proporciones, color=\"#eee\", label=\"Lineal\")\n",
    "ax[1].plot(x, f1(x), color=\"#afe\", label=\"Modelo\")\n",
    "ax[1].plot(\n",
    "    proporciones, curules_promedio, 'go', markersize=2, label=\"Datos\")\n",
    "ax[1].set_title(\"Distribución Promedio Mayor\")\n",
    "ax[1].set_xlabel(\"Curules [número]\")\n",
    "ax[1].set_ylabel(\"Cocientes \")\n",
    "ax[1].legend()\n",
    "\n",
    "# Gráficas 3\n",
    "ax[2].plot(proporciones, proporciones, color=\"#eee\", label=\"Lineal\")\n",
    "ax[2].plot(x, f2(x), color=\"#ddf\", label=\"Modelo\")\n",
    "ax[2].plot(proporciones, curules_resto, 'bo', markersize=2, label=\"Datos\")\n",
    "ax[2].set_title(\"Distribución Resto Mayor\")\n",
    "ax[2].set_xlabel(\"Curules [número]\")\n",
    "ax[2].set_ylabel(\"Cocientes \")\n",
    "ax[2].legend()\n",
    "\n",
    "plt.show()\n"
   ]
  },
  {
   "cell_type": "markdown",
   "metadata": {},
   "source": [
    "---\n",
    "## Mas Recursos\n",
    "\n",
    "- [Métodos del promedio mayor](https://es.wikipedia.org/wiki/M%C3%A9todo_de_promedios_mayores) (Wikipedia)\n",
    "- [Método d'Hondt](https://es.wikipedia.org/wiki/Sistema_D%27Hondt) (Wikipedia)\n",
    "- [Método Webster](https://es.wikipedia.org/wiki/M%C3%A9todo_Sainte-Lagu%C3%AB) (Wikipedia)\n",
    "- [Métodos del resto mayor](https://es.wikipedia.org/wiki/M%C3%A9todo_del_resto_mayor) (Wikipedia)"
   ]
  }
 ],
 "metadata": {
  "interpreter": {
   "hash": "ee5cc6fef2d70a7e71ee3826687cbd150f18158e0b1eef11d4f4f92bb920e304"
  },
  "kernelspec": {
   "display_name": "Python 3.9.9 64-bit",
   "language": "python",
   "name": "python3"
  },
  "language_info": {
   "codemirror_mode": {
    "name": "ipython",
    "version": 3
   },
   "file_extension": ".py",
   "mimetype": "text/x-python",
   "name": "python",
   "nbconvert_exporter": "python",
   "pygments_lexer": "ipython3",
   "version": "3.9.9"
  },
  "orig_nbformat": 4
 },
 "nbformat": 4,
 "nbformat_minor": 2
}

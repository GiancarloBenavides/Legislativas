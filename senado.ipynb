{
 "cells": [
  {
   "cell_type": "markdown",
   "metadata": {},
   "source": [
    "## Senado\n",
    "<p><code>Python en Jupyter Notebook</code></p>\n",
    "<p>Creado por <code>Giancarlo Ortiz</code> para las legislativas <code>2018</code></p>\n",
    "\n",
    "Las elecciones legislativas de Colombia de 2018 se realizaron el domingo 11 de marzo. En ellas se eligieron los miembros de ambas cámaras del Congreso de Colombia con el metodo de cifra repartidora y umbral segun reforma de politica electoral en [acto legislativo 01 de 2003](http://www.secretariasenado.gov.co/senado/basedoc/acto_legislativo_01_2003.html)\n",
    "\n",
    "## Agenda\n",
    "1. Cifra repartidora\n",
    "1. Umbral"
   ]
  },
  {
   "cell_type": "code",
   "execution_count": null,
   "metadata": {},
   "outputs": [],
   "source": [
    "import colorama"
   ]
  },
  {
   "cell_type": "markdown",
   "metadata": {},
   "source": [
    "### 1. Cifra repartidora\n",
    "---\n",
    "El Método de cifra repartidora es un sistema electoral [no lineal](https://es.wikipedia.org/wiki/Sistema_no_lineal) que se utiliza, generalmente, para repartir los escaños de un cuerpo colegiado; existen dos métodos de cifra repartidora comúnmente utilizados: el método d'Hondt y el Método Sainte-Laguë o Webster que asignan mas escaños a los promedios más altos."
   ]
  },
  {
   "cell_type": "code",
   "execution_count": 1,
   "metadata": {},
   "outputs": [],
   "source": [
    "# Funciones\n",
    "def repartidora(votos: list, curules: int) -> int:\n",
    "    values = []\n",
    "    tabla = [[0 for col in range(curules)] for row in range(len(votos))]\n",
    "    lista = -1\n",
    "    for votos_lista in votos:\n",
    "        lista += 1\n",
    "        for item in range(curules):\n",
    "            value = votos_lista/(item+1)\n",
    "            values.append(value)\n",
    "            tabla[lista][item] = value\n",
    "    return round(sorted(values)[-curules-2])\n",
    "\n",
    "\n",
    "def credenciales(votos: list, repartidora: int, umbral: int) -> int:\n",
    "    curules = []\n",
    "    for item in votos:\n",
    "        if item >= umbral:\n",
    "            curules.append(int(item/repartidora))\n",
    "        else:\n",
    "            curules.append(0)\n",
    "    return curules\n"
   ]
  },
  {
   "cell_type": "code",
   "execution_count": 2,
   "metadata": {},
   "outputs": [],
   "source": [
    "# Datos votación escrutinio final 2018\n",
    "votos_listas = [2_508_534, 2_152_793, 1_930_197, 1_896_283, 1_854_349, 1_312_291,\n",
    "                725_244, 520_462, 495_106, 464_916, 345_342, 103_368, 58_023, 55_587, 34_555, 13_439]\n",
    "votos_blancos = 842_286\n",
    "curules_senado_ordinaria = 100\n",
    "curules_senado_especial = 8\n"
   ]
  },
  {
   "cell_type": "code",
   "execution_count": 3,
   "metadata": {},
   "outputs": [],
   "source": [
    "# Cálculo de credenciales senado escrutinio final 2018\n",
    "votos_validos = sum(votos_listas) + votos_blancos\n",
    "umbral = votos_validos*(3/100)\n",
    "cifra_repartidora = repartidora(votos_listas, curules_senado_ordinaria)\n",
    "curules_por_lista = credenciales(votos_listas, cifra_repartidora, umbral)\n"
   ]
  },
  {
   "cell_type": "code",
   "execution_count": 4,
   "metadata": {},
   "outputs": [
    {
     "name": "stdout",
     "output_type": "stream",
     "text": [
      "******************************\n",
      "Validos      :      15,312,775\n",
      "Umbral       :         459,383\n",
      "Repartidora  :         132,028\n",
      "******************************\n",
      "|  1 |      2,508,534 |   19 |\n",
      "|  2 |      2,152,793 |   16 |\n",
      "|  3 |      1,930,197 |   14 |\n",
      "|  4 |      1,896,283 |   14 |\n",
      "|  5 |      1,854,349 |   14 |\n",
      "|  6 |      1,312,291 |    9 |\n",
      "|  7 |        725,244 |    5 |\n",
      "|  8 |        520,462 |    3 |\n",
      "|  9 |        495,106 |    3 |\n",
      "| 10 |        464,916 |    3 |\n",
      "| 11 |        345,342 |    0 |\n",
      "| 12 |        103,368 |    0 |\n",
      "| 13 |         58,023 |    0 |\n",
      "| 14 |         55,587 |    0 |\n",
      "| 15 |         34,555 |    0 |\n",
      "| 16 |         13,439 |    0 |\n",
      "******************************\n",
      "|  T |     14,470,489 |  100 |\n"
     ]
    }
   ],
   "source": [
    "print(f\"*\"*30)\n",
    "print(f\"Validos      : {votos_validos:15,.0f}\")\n",
    "print(f\"Umbral       : {umbral:15,.0f}\")\n",
    "print(f\"Repartidora  : {cifra_repartidora:15,.0f}\")\n",
    "print(f\"*\"*30)\n",
    "for item in range(len(votos_listas)):\n",
    "    print(f\"|{item+1:3.0f} |{votos_listas[item]:15,.0f} |{curules_por_lista[item]:5.0f} |\")\n",
    "print(f\"*\"*30)\n",
    "print(f\"|  T |{sum(votos_listas):15,.0f} |{sum(curules_por_lista):5.0f} |\")"
   ]
  },
  {
   "cell_type": "markdown",
   "metadata": {},
   "source": [
    "---\n",
    "## Mas Recursos\n",
    "\n",
    "- [Método d'Hondt](https://es.wikipedia.org/wiki/Sistema_D%27Hondt) (Wikipedia)\n",
    "- [Método de Gauss-Jordan](https://es.wikipedia.org/wiki/Eliminaci%C3%B3n_de_Gauss-Jordan) (Wikipedia)\n",
    "- [Teorema de la función inversa](https://es.wikipedia.org/wiki/Teorema_de_la_funci%C3%B3n_inversa) (Wikipedia)\n",
    "- [Método de Cramer](https://es.wikipedia.org/wiki/Regla_de_Cramer) (Wikipedia)\n",
    "- [Método Montante](https://es.wikipedia.org/wiki/M%C3%A9todo_Montante) (Wikipedia)"
   ]
  }
 ],
 "metadata": {
  "interpreter": {
   "hash": "ee5cc6fef2d70a7e71ee3826687cbd150f18158e0b1eef11d4f4f92bb920e304"
  },
  "kernelspec": {
   "display_name": "Python 3.9.9 64-bit",
   "language": "python",
   "name": "python3"
  },
  "language_info": {
   "codemirror_mode": {
    "name": "ipython",
    "version": 3
   },
   "file_extension": ".py",
   "mimetype": "text/x-python",
   "name": "python",
   "nbconvert_exporter": "python",
   "pygments_lexer": "ipython3",
   "version": "3.9.9"
  },
  "orig_nbformat": 4
 },
 "nbformat": 4,
 "nbformat_minor": 2
}
